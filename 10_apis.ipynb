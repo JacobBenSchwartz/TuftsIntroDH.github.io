{
 "cells": [
  {
   "cell_type": "markdown",
   "metadata": {},
   "source": [
    "---\n",
    "title: APIs\n",
    "subtitle: \"Application Programming Interfaces\"\n",
    "author:\n",
    "  - name: Charles Pletcher\n",
    "    affiliations: Tufts University\n",
    "    orcid: 0000-0003-2734-5511\n",
    "    email: charles.pletcher@tufts.edu\n",
    "license:\n",
    "  code: MIT\n",
    "date: 2025-03-31\n",
    "---\n",
    "\n",
    "# Application Programming Interfaces\n",
    "\n",
    "You will hear the term \"API\" in many different contexts when it comes to computer programming. Already in this class, we have discussed Python's API for the file system.\n",
    "\n",
    "Often, however, when someone mentions an API, they are referring to a web-based API that is usually accessed over HTTP(S). You might have heard about the kerfuffle when Twitter shut down much of the access to its API, or when Reddit did the same thing a few years earlier. These APIs are servers that provide _interfaces_ (the \"I\" in \"API\") to a platform's data.\n",
    "\n",
    "As you probably noticed while reading [Walker 2019](https://studentwork.prattsi.org/dh/2019/05/13/getting-data-for-digital-humanities-with-apis/), it is not exactly uncommon for references to APIs to become out of date.\n",
    "\n",
    "Luckily, we can still use the API provided by the [Digital Public Library of America](https://dp.la) for our work for this class.\n",
    "\n",
    "We'll be working with the Python [Requests](https://docs.python-requests.org/en/latest/) library, which provides its own easy-to-use API for making HTTP requests. In other words, it's APIs all the way down.\n",
    "\n",
    "## Getting an access token"
   ]
  },
  {
   "cell_type": "code",
   "execution_count": null,
   "metadata": {
    "vscode": {
     "languageId": "plaintext"
    }
   },
   "outputs": [],
   "source": [
    "# Getting an access token"
   ]
  },
  {
   "cell_type": "markdown",
   "metadata": {},
   "source": [
    "## Making your first request"
   ]
  },
  {
   "cell_type": "code",
   "execution_count": null,
   "metadata": {
    "vscode": {
     "languageId": "plaintext"
    }
   },
   "outputs": [],
   "source": [
    "# Making your first request"
   ]
  },
  {
   "cell_type": "markdown",
   "metadata": {},
   "source": [
    "## Reading responses"
   ]
  },
  {
   "cell_type": "code",
   "execution_count": null,
   "metadata": {
    "vscode": {
     "languageId": "plaintext"
    }
   },
   "outputs": [],
   "source": [
    "# Reading responses"
   ]
  },
  {
   "cell_type": "markdown",
   "metadata": {},
   "source": [
    "## Constructing queries"
   ]
  },
  {
   "cell_type": "code",
   "execution_count": null,
   "metadata": {
    "vscode": {
     "languageId": "plaintext"
    }
   },
   "outputs": [],
   "source": [
    "# Constructing queries"
   ]
  },
  {
   "cell_type": "markdown",
   "metadata": {},
   "source": [
    "## Readings\n",
    "\n",
    "- [Walker 2019](https://studentwork.prattsi.org/dh/2019/05/13/getting-data-for-digital-humanities-with-apis/): Getting Data for Digital Humanities with APIs: A Gentle Introduction\n",
    "\n",
    "## Homework\n",
    "\n",
    "Design and test an experiment using the data from a publicly available API, such as the [Digital Public Library of America](https://pro.dp.la/developers) or [Chronicling America](https://chroniclingamerica.loc.gov/about/api/) — you can also use another data source, just run it by me first.\n",
    "\n",
    "In your report, be sure to discuss your research question, hypothesis, methods, results, and conclusion — in other words, walk the reader through the full scientific process.\n",
    "\n",
    "These experiments need not be large — think of a small, answerable question that you could tackle in the space of 4 hours of work (i.e., the amount of outside work generally expected for each lab)."
   ]
  }
 ],
 "metadata": {
  "language_info": {
   "name": "python"
  }
 },
 "nbformat": 4,
 "nbformat_minor": 2
}
