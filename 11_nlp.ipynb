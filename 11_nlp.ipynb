{
 "cells": [
  {
   "cell_type": "markdown",
   "metadata": {},
   "source": [
    "---\n",
    "title: NLP\n",
    "subtitle: \"Natural Language Processing\"\n",
    "author:\n",
    "  - name: Charles Pletcher\n",
    "    affiliations: Tufts University\n",
    "    orcid: 0000-0003-2734-5511\n",
    "    email: charles.pletcher@tufts.edu\n",
    "license:\n",
    "  code: MIT\n",
    "date: 2025-04-06\n",
    "---\n",
    "\n",
    "# Natural Language Processing\n",
    "\n",
    "## Basics of NLP and the NLTK\n",
    "\n",
    "## NLP in the age of LLMs\n",
    "\n",
    "## Named Entity Recognition\n",
    "\n",
    "## Topic Modeling\n",
    "\n",
    "## Distant Reading\n",
    "\n",
    "## Readings\n",
    "\n",
    "- <https://doi.org/10.5334/johd.150>\n",
    "\n",
    "- Kirsch, Adam. \"Technology Is Taking Over English Departments.\" The New Republic, May 2, 2014\n",
    "- @Blei2012\n",
    "- @Brett2012\n",
    "- @Mimno2012\n",
    "- @Wellmon2015\n",
    "\n",
    "## Homework"
   ]
  }
 ],
 "metadata": {
  "language_info": {
   "name": "python"
  }
 },
 "nbformat": 4,
 "nbformat_minor": 2
}
